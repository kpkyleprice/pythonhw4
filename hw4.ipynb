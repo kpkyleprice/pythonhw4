{
 "cells": [
  {
   "cell_type": "code",
   "execution_count": 1,
   "id": "c4e3e343",
   "metadata": {},
   "outputs": [
    {
     "name": "stdout",
     "output_type": "stream",
     "text": [
      "2\n",
      "6\n",
      "leather\n"
     ]
    }
   ],
   "source": [
    "class Car():\n",
    "    wheels = 4\n",
    "    wipers = 2\n",
    "    gearshift = 'automatic'\n",
    "    color = 'white'\n",
    "    doors = 6\n",
    "    seats = 'leather'\n",
    "\n",
    "honda = Car()\n",
    "BMW = Car()\n",
    "Toyota = Car()\n",
    "\n",
    "print(BMW.wipers)\n",
    "print(Toyota.doors)\n",
    "print(BMW.seats)"
   ]
  },
  {
   "cell_type": "code",
   "execution_count": 2,
   "id": "383a93ed",
   "metadata": {},
   "outputs": [
    {
     "name": "stdout",
     "output_type": "stream",
     "text": [
      "4\n",
      "2\n",
      "nylon\n",
      "fake leather\n"
     ]
    }
   ],
   "source": [
    "class Car():\n",
    "    engine = '4 cylinder'\n",
    "    \n",
    "    def __init__ (self, doors, seats):\n",
    "        self.doors = doors\n",
    "        self.seats = seats\n",
    "\n",
    "honda = Car(4, 'nylon')\n",
    "BMW = Car(2, 'fake leather')\n",
    "\n",
    "print(honda.doors)\n",
    "print(BMW.doors)\n",
    "print(honda.seats)\n",
    "print(BMW.seats)"
   ]
  },
  {
   "cell_type": "code",
   "execution_count": 1,
   "id": "58e1dd51",
   "metadata": {},
   "outputs": [
    {
     "name": "stdout",
     "output_type": "stream",
     "text": [
      "Welcome to my store!\n",
      "Please select an option: Quit Add Remove Show Empty Checkout add\n",
      "What item would you like to add your cart? milk\n",
      "What is the price for milk? 3\n",
      "milk for $3 has been added to your cart \n",
      "Please select an option: Quit Add Remove Show Empty Checkout show\n",
      "Your Shopping Cart contains:\n",
      "milk\n",
      "Current total: $3\n",
      "Please select an option: Quit Add Remove Show Empty Checkout add\n",
      "What item would you like to add your cart? bread\n",
      "What is the price for bread? 2\n",
      "bread for $2 has been added to your cart \n",
      "Please select an option: Quit Add Remove Show Empty Checkout checkout\n",
      "Your receipt:\n",
      "Milk, Bread\n",
      "Your Total is $5 for your 2 items.\n",
      "Would you like to adjust your cart? If not enter quit to leave\n",
      "Please select an option: Quit Add Remove Show Empty Checkout quit\n",
      "Thank you for shopping with us come back soon!\n"
     ]
    }
   ],
   "source": [
    "def Cart():\n",
    "    \n",
    "    SCart_items = []\n",
    "    SCart_price = []\n",
    "\n",
    "    print('Welcome to my store!')\n",
    "\n",
    "\n",
    "    while True:\n",
    "        response = input(\"Please select an option: \" + \"Quit \" + \"Add \" + \"Remove \" + \"Show \" + \"Empty\"  +  \" Checkout \")\n",
    "         \n",
    "        if response.lower() == \"add\":\n",
    "            cart_item = input(\"What item would you like to add your cart? \")\n",
    "            item_price = input(f\"What is the price for {cart_item}? \")\n",
    "            SCart_items.append(cart_item)\n",
    "            SCart_price.append(int(item_price))\n",
    "            print(f\"{cart_item} for ${item_price} has been added to your cart \")\n",
    "        elif response.lower() == \"remove\":\n",
    "            remove_item = input(\"What would you like to remove from your cart? \")\n",
    "            remove_price = input(f\"What was the price of the {remove_item}? \")\n",
    "            SCart_items.remove(remove_item)\n",
    "            SCart_price.remove(int(remove_price))\n",
    "            print(f\"{remove_item} has been removed from your cart \")\n",
    "        elif response.lower() == \"show\":\n",
    "            print(\"Your Shopping Cart contains:\")\n",
    "            for item in SCart_items:\n",
    "                print(item)\n",
    "            print(f\"Current total: ${sum(SCart_price)}\")\n",
    "        elif response.lower() == \"empty\":\n",
    "            SCart_items.clear()\n",
    "            SCart_price.clear()\n",
    "            print(\"Your cart is now empty\")\n",
    "        elif response.lower() == \"quit\":\n",
    "            print(\"Thank you for shopping with us come back soon!\")\n",
    "            break\n",
    "        elif response.lower() == 'checkout':\n",
    "            for price in SCart_price:\n",
    "                print(f\"Your receipt:\")\n",
    "                print(\", \".join(str(i.title()) for i in SCart_items))\n",
    "                print(f\"Your Total is ${sum(SCart_price)} for your {len(SCart_items)} items.\")\n",
    "                print('Would you like to adjust your cart? If not enter quit to leave')\n",
    "                break\n",
    "        else:\n",
    "            print('invalid response please try again')\n",
    "Cart()"
   ]
  },
  {
   "cell_type": "code",
   "execution_count": 7,
   "id": "809bd0c8",
   "metadata": {},
   "outputs": [],
   "source": [
    "class Strings():\n",
    "    \n",
    "    def __init__(self, string):\n",
    "        self.string = string\n",
    "    \n",
    "    def get_String(self):\n",
    "        self.string = input('Feel free to type whatver you want here: ')\n",
    "        \n",
    "    def print_String(self):\n",
    "        print(self.string.upper())"
   ]
  },
  {
   "cell_type": "code",
   "execution_count": 8,
   "id": "679ec6a7",
   "metadata": {},
   "outputs": [],
   "source": [
    "phrase = Strings('this is a string.')"
   ]
  },
  {
   "cell_type": "code",
   "execution_count": 9,
   "id": "5be3094d",
   "metadata": {},
   "outputs": [
    {
     "name": "stdout",
     "output_type": "stream",
     "text": [
      "Feel free to type whatver you want here: hi there\n",
      "None\n"
     ]
    }
   ],
   "source": [
    "print(phrase.get_String())"
   ]
  },
  {
   "cell_type": "code",
   "execution_count": 10,
   "id": "8690e741",
   "metadata": {},
   "outputs": [
    {
     "name": "stdout",
     "output_type": "stream",
     "text": [
      "HI THERE\n",
      "None\n"
     ]
    }
   ],
   "source": [
    "print(phrase.print_String())"
   ]
  },
  {
   "cell_type": "code",
   "execution_count": null,
   "id": "21632ba7",
   "metadata": {},
   "outputs": [],
   "source": []
  }
 ],
 "metadata": {
  "kernelspec": {
   "display_name": "Python 3 (ipykernel)",
   "language": "python",
   "name": "python3"
  },
  "language_info": {
   "codemirror_mode": {
    "name": "ipython",
    "version": 3
   },
   "file_extension": ".py",
   "mimetype": "text/x-python",
   "name": "python",
   "nbconvert_exporter": "python",
   "pygments_lexer": "ipython3",
   "version": "3.9.13"
  }
 },
 "nbformat": 4,
 "nbformat_minor": 5
}
